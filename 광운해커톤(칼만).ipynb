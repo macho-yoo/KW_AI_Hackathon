{
  "nbformat": 4,
  "nbformat_minor": 0,
  "metadata": {
    "colab": {
      "name": "광운해커톤(칼만).ipynb",
      "provenance": [],
      "collapsed_sections": [],
      "machine_shape": "hm",
      "include_colab_link": true
    },
    "kernelspec": {
      "display_name": "Python 3",
      "name": "python3"
    },
    "language_info": {
      "name": "python"
    },
    "accelerator": "GPU"
  },
  "cells": [
    {
      "cell_type": "markdown",
      "metadata": {
        "id": "view-in-github",
        "colab_type": "text"
      },
      "source": [
        "<a href=\"https://colab.research.google.com/github/seunggeon/AI_hackerthon/blob/main/%EA%B4%91%EC%9A%B4%ED%95%B4%EC%BB%A4%ED%86%A4(%EC%B9%BC%EB%A7%8C).ipynb\" target=\"_parent\"><img src=\"https://colab.research.google.com/assets/colab-badge.svg\" alt=\"Open In Colab\"/></a>"
      ]
    },
    {
      "cell_type": "code",
      "metadata": {
        "id": "S8HzxlQ8JOsk",
        "colab": {
          "base_uri": "https://localhost:8080/"
        },
        "outputId": "f6227fc3-7e59-4b72-acef-ab72765ef40c"
      },
      "source": [
        "from google.colab import drive\n",
        "drive.mount('/content/drive')"
      ],
      "execution_count": 2,
      "outputs": [
        {
          "output_type": "stream",
          "name": "stdout",
          "text": [
            "Mounted at /content/drive\n"
          ]
        }
      ]
    },
    {
      "cell_type": "code",
      "metadata": {
        "id": "Ie1WfnOMOsp1"
      },
      "source": [
        "import os\n",
        "os.chdir('/content/drive/MyDrive/월간 11 운동')"
      ],
      "execution_count": 3,
      "outputs": []
    },
    {
      "cell_type": "code",
      "metadata": {
        "colab": {
          "base_uri": "https://localhost:8080/"
        },
        "id": "h-DB5DCXsTaO",
        "outputId": "60d4e6e4-3e40-43a7-9579-f00d5ba635d0"
      },
      "source": [
        "gpu_info = !nvidia-smi\n",
        "gpu_info = '\\n'.join(gpu_info)\n",
        "if gpu_info.find('failed') >= 0:\n",
        "  print('Not connected to a GPU')\n",
        "else:\n",
        "  print(gpu_info)"
      ],
      "execution_count": 4,
      "outputs": [
        {
          "output_type": "stream",
          "name": "stdout",
          "text": [
            "Wed Oct  6 15:11:24 2021       \n",
            "+-----------------------------------------------------------------------------+\n",
            "| NVIDIA-SMI 470.74       Driver Version: 460.32.03    CUDA Version: 11.2     |\n",
            "|-------------------------------+----------------------+----------------------+\n",
            "| GPU  Name        Persistence-M| Bus-Id        Disp.A | Volatile Uncorr. ECC |\n",
            "| Fan  Temp  Perf  Pwr:Usage/Cap|         Memory-Usage | GPU-Util  Compute M. |\n",
            "|                               |                      |               MIG M. |\n",
            "|===============================+======================+======================|\n",
            "|   0  Tesla P100-PCIE...  Off  | 00000000:00:04.0 Off |                    0 |\n",
            "| N/A   44C    P0    28W / 250W |      0MiB / 16280MiB |      0%      Default |\n",
            "|                               |                      |                  N/A |\n",
            "+-------------------------------+----------------------+----------------------+\n",
            "                                                                               \n",
            "+-----------------------------------------------------------------------------+\n",
            "| Processes:                                                                  |\n",
            "|  GPU   GI   CI        PID   Type   Process name                  GPU Memory |\n",
            "|        ID   ID                                                   Usage      |\n",
            "|=============================================================================|\n",
            "|  No running processes found                                                 |\n",
            "+-----------------------------------------------------------------------------+\n"
          ]
        }
      ]
    },
    {
      "cell_type": "code",
      "metadata": {
        "colab": {
          "base_uri": "https://localhost:8080/"
        },
        "id": "RPC__UQ8sQak",
        "outputId": "8b47d71f-fbc0-4645-d7bb-4145960bdd57"
      },
      "source": [
        "from psutil import virtual_memory\n",
        "ram_gb = virtual_memory().total / 1e9\n",
        "print('Your runtime has {:.1f} gigabytes of available RAM\\n'.format(ram_gb))\n",
        "\n",
        "if ram_gb < 20:\n",
        "  print('Not using a high-RAM runtime')\n",
        "else:\n",
        "  print('You are using a high-RAM runtime!')"
      ],
      "execution_count": 5,
      "outputs": [
        {
          "output_type": "stream",
          "name": "stdout",
          "text": [
            "Your runtime has 27.3 gigabytes of available RAM\n",
            "\n",
            "You are using a high-RAM runtime!\n"
          ]
        }
      ]
    },
    {
      "cell_type": "code",
      "metadata": {
        "id": "nqZobjceOs3s"
      },
      "source": [
        "import pandas as pd\n",
        "import numpy as np\n",
        "from sklearn.model_selection import train_test_split\n",
        "from sklearn.metrics import log_loss\n",
        "from sklearn.model_selection import StratifiedKFold\n",
        "from scipy.stats import skew\n",
        "from scipy.stats import kurtosis\n",
        "from sklearn.cluster import KMeans\n",
        "import math\n",
        "from tqdm import tqdm\n",
        "\n",
        "train = pd.read_csv('train_features.csv')\n",
        "train_acc, train_gy  = train.iloc[:, 2:5], train.iloc[:, 5:] #iloc 알아두기. 데이터에 특정 행과 열을 선택.\n",
        "\n",
        "train_label = pd.read_csv('train_labels.csv')\n",
        "train_y = train_label.label\n",
        "\n",
        "test = pd.read_csv('test_features.csv')\n",
        "submission=pd.read_csv('sample_submission.csv')"
      ],
      "execution_count": 6,
      "outputs": []
    },
    {
      "cell_type": "code",
      "metadata": {
        "id": "7UGPMrsxWGLc"
      },
      "source": [
        "# Nsamples =600\n",
        "# EulerSaved = np.zeros([Nsamples,3])\n",
        "# EulerSaved.shape"
      ],
      "execution_count": 7,
      "outputs": []
    },
    {
      "cell_type": "markdown",
      "metadata": {
        "id": "ZOaeYp9f-7-d"
      },
      "source": [
        "**GPU 확인**"
      ]
    },
    {
      "cell_type": "code",
      "metadata": {
        "id": "Ypjxh5PK7gN5",
        "colab": {
          "base_uri": "https://localhost:8080/"
        },
        "outputId": "3a303b9f-0858-43d6-b7e2-6998c18ba863"
      },
      "source": [
        "%tensorflow_version 2.x\n",
        "import tensorflow as tf\n",
        "device_name = tf.test.gpu_device_name()\n",
        "if device_name != '/device:GPU:0':\n",
        "  raise SystemError('GPU device not found')\n",
        "print('Found GPU at: {}'.format(device_name))"
      ],
      "execution_count": 8,
      "outputs": [
        {
          "output_type": "stream",
          "name": "stdout",
          "text": [
            "Found GPU at: /device:GPU:0\n"
          ]
        }
      ]
    },
    {
      "cell_type": "markdown",
      "metadata": {
        "id": "qoCUgT0T_Dto"
      },
      "source": [
        "# EDA\n"
      ]
    },
    {
      "cell_type": "markdown",
      "metadata": {
        "id": "CT12nOND_Ot5"
      },
      "source": [
        "# DATA Augment"
      ]
    },
    {
      "cell_type": "code",
      "metadata": {
        "id": "cQ2u-CCONs2u",
        "colab": {
          "base_uri": "https://localhost:8080/"
        },
        "outputId": "9e0ca314-9ddb-4ea3-eec9-60ab2b2edd05"
      },
      "source": [
        "import scipy\n",
        "!pip install transforms3d\n",
        "from transforms3d.axangles import axangle2mat\n",
        "\n",
        "def rolling(data):\n",
        "    for j in np.random.choice(data.shape[0], int(data.shape[0]*2/3)):\n",
        "        data[j] = np.roll(data[j], np.random.choice(data.shape[1]), axis= 0)\n",
        "    return data\n",
        "\n",
        "def rotation(data):\n",
        "    axis = np.random.uniform(low=-1, high=1, size=data.shape[1])\n",
        "    angle = np.random.uniform(low=-np.pi, high=np.pi)\n",
        "    return np.matmul(data , axangle2mat(axis,angle))\n",
        "\n",
        "def permutation(data, nPerm=4, mSL=10):\n",
        "    data_new = np.zeros(data.shape)\n",
        "    idx = np.random.permutation(nPerm)\n",
        "    bWhile = True\n",
        "    while bWhile == True:\n",
        "        segs = np.zeros(nPerm+1, dtype=int)\n",
        "        segs[1:-1] = np.sort(np.random.randint(mSL, data.shape[0]-mSL, nPerm-1))\n",
        "        segs[-1] = data.shape[0]\n",
        "        if np.min(segs[1:]-segs[0:-1]) > mSL:\n",
        "            bWhile = False\n",
        "    pp = 0\n",
        "    for ii in range(nPerm):\n",
        "        data_temp = data[segs[idx[ii]]:segs[idx[ii]+1],:]\n",
        "        data_new[pp:pp+len(data_temp),:] = data_temp\n",
        "        pp += len(data_temp)\n",
        "    return(data_new)\n",
        "\n",
        "\"\"\"\n",
        "sigma = 0.05\n",
        "def Jitter(data, sigma=0.05):\n",
        "    myNoise = np.random.normal(loc=0, scale=sigma, size=data.shape)\n",
        "    return data+myNoise\n",
        "\"\"\"\n",
        "\n",
        "def combine_aug(data, k, aug_P = 0):\n",
        "    data_ = data.copy()\n",
        "    if aug_P == 0:\n",
        "        if (k+1) % 2 == 0:\n",
        "            for i in np.random.choice(int(data.shape[0]/600), int(data.shape[0]/600*2/3)):\n",
        "                data_[600*i:600*(i+1)] = rotation(np.array(data_[600*i:600*(i+1)]))\n",
        "        if (k+1) % 2 == 1:\n",
        "            for i in np.random.choice(int(data.shape[0]/600), int(data.shape[0]/600*2/3)):\n",
        "                data_[600*i:600*(i+1)] = permutation(np.array(data_[600*i:600*(i+1)]))\n",
        "                \n",
        "    if aug_P != 0:\n",
        "        pass\n",
        "    return data_\n"
      ],
      "execution_count": 9,
      "outputs": [
        {
          "output_type": "stream",
          "name": "stdout",
          "text": [
            "Collecting transforms3d\n",
            "  Downloading transforms3d-0.3.1.tar.gz (62 kB)\n",
            "\u001b[?25l\r\u001b[K     |█████▏                          | 10 kB 28.9 MB/s eta 0:00:01\r\u001b[K     |██████████▍                     | 20 kB 30.2 MB/s eta 0:00:01\r\u001b[K     |███████████████▋                | 30 kB 14.0 MB/s eta 0:00:01\r\u001b[K     |████████████████████▉           | 40 kB 10.8 MB/s eta 0:00:01\r\u001b[K     |██████████████████████████      | 51 kB 5.4 MB/s eta 0:00:01\r\u001b[K     |███████████████████████████████▎| 61 kB 5.7 MB/s eta 0:00:01\r\u001b[K     |████████████████████████████████| 62 kB 1.0 MB/s \n",
            "\u001b[?25hBuilding wheels for collected packages: transforms3d\n",
            "  Building wheel for transforms3d (setup.py) ... \u001b[?25l\u001b[?25hdone\n",
            "  Created wheel for transforms3d: filename=transforms3d-0.3.1-py3-none-any.whl size=59373 sha256=551f2c7b213db31c98dc39facdea775e8b0eca4152b946c50c2706fec337e069\n",
            "  Stored in directory: /root/.cache/pip/wheels/b5/b7/93/8985551f83720ce37548a5b543c75380bb707955a9c2c5d28c\n",
            "Successfully built transforms3d\n",
            "Installing collected packages: transforms3d\n",
            "Successfully installed transforms3d-0.3.1\n"
          ]
        }
      ]
    },
    {
      "cell_type": "markdown",
      "metadata": {
        "id": "FpxY2HJfynuK"
      },
      "source": [
        "# 주어진 dataset를 모델에 넣을 데이터로 변환\n"
      ]
    },
    {
      "cell_type": "markdown",
      "metadata": {
        "id": "-sY2XWfzAZeV"
      },
      "source": [
        "#에너지 변환 및 Roll & Pitch"
      ]
    },
    {
      "cell_type": "code",
      "metadata": {
        "id": "E-YXBQUwNFoI"
      },
      "source": [
        "# pi = math.pi\n",
        "# dt=0.02 \n",
        "# from math import atan, sqrt\n",
        "\n",
        "# def roll_pitch(data):\n",
        "#     roll = (data.iloc[:,1]/(data.iloc[:,0]**2 + data.iloc[:,2]**2).apply(lambda x : sqrt(x))).apply(lambda x : atan(x))*180/np.pi\n",
        "#     pitch = (data.iloc[:,0]/(data.iloc[:,1]**2 + data.iloc[:,2]**2).apply(lambda x : sqrt(x))).apply(lambda x : atan(x))*180/np.pi\n",
        "#     return pd.concat([roll,pitch], axis=1)\n",
        "\n",
        "# # 원본데이터를 에너지값으로 표현\n",
        "# def get_energy(data):\n",
        "#     energy_ = (data.iloc[:,0]**2+data.iloc[:,1]**2+data.iloc[:,2]**2)**(1/3)\n",
        "#     return energy_ "
      ],
      "execution_count": 10,
      "outputs": []
    },
    {
      "cell_type": "markdown",
      "metadata": {
        "id": "QKMSQT5sr-mg"
      },
      "source": [
        "# 칼만필터"
      ]
    },
    {
      "cell_type": "code",
      "metadata": {
        "id": "vLRIHH3w91OI",
        "colab": {
          "base_uri": "https://localhost:8080/"
        },
        "outputId": "b4838451-b00c-4de1-b813-0b912857c397"
      },
      "source": [
        "    !pip install -q tensorflow-gpu==2.0.0-rc1\n",
        "    !pip install transformations\n",
        "    import tensorflow as tf\n",
        "    import numpy as np\n",
        "    from numpy.linalg import inv\n",
        "    import matplotlib.pyplot as plt\n",
        "    from math import cos, sin, asin, atan2, pi, atan, sqrt\n",
        "    from scipy import io\n",
        "    from transformations import euler_from_quaternion\n"
      ],
      "execution_count": 11,
      "outputs": [
        {
          "output_type": "stream",
          "name": "stdout",
          "text": [
            "\u001b[K     |████████████████████████████████| 380.5 MB 9.1 kB/s \n",
            "\u001b[K     |████████████████████████████████| 501 kB 59.9 MB/s \n",
            "\u001b[K     |████████████████████████████████| 50 kB 5.6 MB/s \n",
            "\u001b[K     |████████████████████████████████| 4.3 MB 36.7 MB/s \n",
            "\u001b[?25hCollecting transformations\n",
            "  Downloading transformations-2021.6.6.tar.gz (45 kB)\n",
            "\u001b[K     |████████████████████████████████| 45 kB 1.6 MB/s \n",
            "\u001b[?25hRequirement already satisfied: numpy>=1.15.1 in /usr/local/lib/python3.7/dist-packages (from transformations) (1.19.5)\n",
            "Building wheels for collected packages: transformations\n",
            "  Building wheel for transformations (setup.py) ... \u001b[?25l\u001b[?25hdone\n",
            "  Created wheel for transformations: filename=transformations-2021.6.6-cp37-cp37m-linux_x86_64.whl size=113507 sha256=82c5a3ca7018f5dd53a7dc6fcb66e7de94a3f7732bffe8ec637c04b4c4db099c\n",
            "  Stored in directory: /root/.cache/pip/wheels/f0/3c/16/a67f60f017d0003f27b7156162df6f3aa45e4b2cee82232e3a\n",
            "Successfully built transformations\n",
            "Installing collected packages: transformations\n",
            "Successfully installed transformations-2021.6.6\n"
          ]
        }
      ]
    },
    {
      "cell_type": "code",
      "metadata": {
        "id": "gALltk8dr7Js",
        "colab": {
          "base_uri": "https://localhost:8080/",
          "height": 54
        },
        "outputId": "bb9dc464-6b1a-4ad3-b59e-d66176f6c3b5"
      },
      "source": [
        " '''\n",
        " Filename: 11_EulerKalman.py\n",
        " Created on: April,3, 2021\n",
        " Author: dhpark\n",
        "'''\n",
        "def kalman_excute(train_acc,train_gy):\n",
        "\n",
        "    def GetGyro(i):\n",
        "        p = train_gy.iloc[i,0]  # (41500, 1)\n",
        "        q = train_gy.iloc[i,1]  # (41500, 1)\n",
        "        r = train_gy.iloc[i,2]  # (41500, 1)\n",
        "        \n",
        "        return p, q, r\n",
        "\n",
        "    def GetAccel(i):\n",
        "        ax = train_acc.iloc[i,0]   # (41500, 1)\n",
        "        ay = train_acc.iloc[i,1]  # (41500, 1)\n",
        "        az = train_acc.iloc[i,2] \n",
        "        \n",
        "        return ax, ay, az\n",
        "        \n",
        "    def EulerAccel(ax, ay, az):\n",
        "        theta = atan(ax/sqrt(ay**2 + az**2))\n",
        "        phi = atan(ay/az)\n",
        "        return phi, theta\n",
        "\n",
        "    def EulerToQuaternion(phi, theta, psi):\n",
        "        sinPhi = sin(phi/2)\n",
        "        cosPhi = cos(phi/2)\n",
        "        sinTheta = sin(theta/2)\n",
        "        cosTheta = cos(theta/2)\n",
        "        sinPsi = sin(psi/2)\n",
        "        cosPsi = cos(psi/2)\n",
        "        z = np.array([cosPhi*cosTheta*cosPsi + sinPhi*sinTheta*sinPsi,\n",
        "                      sinPhi*cosTheta*cosPsi - cosPhi*sinTheta*sinPsi,\n",
        "                      cosPhi*sinTheta*cosPsi + sinPhi*cosTheta*sinPsi,\n",
        "                      cosPhi*cosTheta*sinPsi - sinPhi*sinTheta*cosPsi])\n",
        "        return z\n",
        "\n",
        "    def EulerKalman(A, z, k, Q, H, R, x, P):\n",
        "        \n",
        "        Xp = A @ x # Xp : State Variable Prediction\n",
        "        Pp = A @ P @ A.T + Q # Error Covariance Prediction\n",
        "\n",
        "        K = (Pp @ H.T) @ inv(H@Pp@H.T + R) # K : Kalman Gain\n",
        "\n",
        "        x = Xp + K@(z - H@Xp) # Update State Variable Estimation\n",
        "        P = Pp - K@H@Pp # Update Error Covariance Estimation\n",
        "       \n",
        "\n",
        "        phi, theta, psi = euler_from_quaternion(x)\n",
        "            \n",
        "        # phi   = atan2(2 * (x[2] * x[3] + x[0] * x[1]), 1 - 2*(x[1]**2 + x[2]**2))\n",
        "        # try:\n",
        "        #     theta = -asin(2 *  (x[1] * x[3] - x[0] * x[2]))\n",
        "        # except:\n",
        "        #     theta = -asin()\n",
        "        # psi   = atan2(2 *  (x[1] * x[2] + x[0] * x[3]), 1-2*(x[2]**2 + x[3]**2))\n",
        "        return phi, theta, psi\n",
        "\n",
        "    Nsamples = train_acc.shape[0]\n",
        "    EulerSaved = np.zeros([Nsamples,3])\n",
        "    dt = 0.01\n",
        "\n",
        "    H, Q, R = None, None, None  \n",
        "    x, P = None, None\n",
        "\n",
        "    for k in range(Nsamples):\n",
        "        p, q, r = GetGyro(k)\n",
        "        A = np.eye(4) + dt * (1/2) * np.array([[0,-p,-q,-r],[p,0,r,-q],[q,-r,0,p],[r,q,-p,0]])\n",
        "        ax, ay, az = GetAccel(k)\n",
        "        phi, theta = EulerAccel(ax, ay, az)\n",
        "        z = EulerToQuaternion(phi, theta, 0) #State variable as Quaternion form\n",
        "        \n",
        "        H = np.eye(4)\n",
        "        Q = 0.0001 * np.eye(4)\n",
        "        R = 10 * np.eye(4)\n",
        "        x = np.array([1, 0, 0, 0]).transpose()\n",
        "        P = np.eye(4)\n",
        "        phi, theta, psi = EulerKalman(A, z, k, Q, H, R, x, P)\n",
        "        EulerSaved[k] = [phi, theta, psi]\n",
        "       \n",
        "\n",
        "    PhiSaved = EulerSaved[:,0] * 180/pi\n",
        "    ThetaSaved = EulerSaved[:,1] * 180/pi\n",
        "    PsiSaved = EulerSaved[:,2] * 180/pi\n",
        "\n",
        "\n",
        "    PhiSaved = pd.DataFrame(PhiSaved)\n",
        "    ThetaSaved = pd.DataFrame(ThetaSaved)\n",
        "    \n",
        "    return pd.concat([PhiSaved,ThetaSaved], axis=1)\n",
        "\n",
        "\n",
        "'''\n",
        "plt.figure()\n",
        "plt.plot(t, PhiSaved)\n",
        "plt.xlabel('Time [Sec]')\n",
        "plt.ylabel('Roll angle [deg]')\n",
        "plt.savefig('11_EulerKalman_roll.png')\n",
        "\n",
        "plt.figure()\n",
        "plt.plot(t, ThetaSaved)\n",
        "plt.xlabel('Time [Sec]')\n",
        "plt.ylabel('Pitch angle [deg]')\n",
        "plt.savefig('11_EulerKalman_pitch.png')\n",
        "plt.show()\n",
        "'''"
      ],
      "execution_count": 26,
      "outputs": [
        {
          "output_type": "execute_result",
          "data": {
            "application/vnd.google.colaboratory.intrinsic+json": {
              "type": "string"
            },
            "text/plain": [
              "\"\\nplt.figure()\\nplt.plot(t, PhiSaved)\\nplt.xlabel('Time [Sec]')\\nplt.ylabel('Roll angle [deg]')\\nplt.savefig('11_EulerKalman_roll.png')\\n\\nplt.figure()\\nplt.plot(t, ThetaSaved)\\nplt.xlabel('Time [Sec]')\\nplt.ylabel('Pitch angle [deg]')\\nplt.savefig('11_EulerKalman_pitch.png')\\nplt.show()\\n\""
            ]
          },
          "metadata": {},
          "execution_count": 26
        }
      ]
    },
    {
      "cell_type": "markdown",
      "metadata": {
        "id": "ue1bm761AHvv"
      },
      "source": [
        "# 변환한 데이터를 DataFrame화"
      ]
    },
    {
      "cell_type": "code",
      "metadata": {
        "id": "rdjBPhZ6Cu5b"
      },
      "source": [
        "def train_dataset(acc_data, gy_data):\n",
        "\n",
        "    kalam_data = kalman_excute(acc_data, gy_data)\n",
        "\n",
        "    return pd.concat([acc_data, gy_data, kalam_data], axis= 1)\n",
        "\n",
        "def test_dataset(acc_data, gy_data):\n",
        "    \n",
        "    kalam_data = kalman_excute(acc_data, gy_data)\n",
        "\n",
        "    return pd.concat([acc_data, gy_data, kalam_data], axis= 1)"
      ],
      "execution_count": 13,
      "outputs": []
    },
    {
      "cell_type": "markdown",
      "metadata": {
        "id": "u8hhJkBSA2_a"
      },
      "source": [
        "# Scale Data\n"
      ]
    },
    {
      "cell_type": "markdown",
      "metadata": {
        "id": "v_z_VyCH2yku"
      },
      "source": [
        "#Scaler fit 및 Dataset 리턴값 확인하기."
      ]
    },
    {
      "cell_type": "code",
      "metadata": {
        "id": "UCIlcvkIXOJN",
        "colab": {
          "base_uri": "https://localhost:8080/",
          "height": 72
        },
        "outputId": "bdc292c5-5105-4e4d-b6a2-f54079264d76"
      },
      "source": [
        "     '''\n",
        "      import sklearn\n",
        "      from sklearn.preprocessing import StandardScaler\n",
        "      scaler = StandardScaler()\n",
        "\n",
        "      train_reshape_acc = np.array(train_acc).reshape(-1, 600, 3)\n",
        "      train_reshape_gy = np.array(train_gy).reshape(-1, 600, 3)\n",
        "\n",
        "      for i in range(1000):\n",
        "        train_ACC, train_GY = train_reshape_acc[i].reshape(-1, 3), train_reshape_gy[i].reshape(-1, 3)\n",
        "        data_for_scaler = train_dataset(pd.DataFrame(train_ACC), pd.DataFrame(train_GY))\n",
        "        print(data_for_scaler)\n",
        "        scaler = StandardScaler().fit(data_for_scaler) #스탠다드 스케일러 사용\n",
        "\n",
        "        scale_X = np.array(data_for_scaler).reshape(-1, 600, data_for_scaler.shape[1])\n",
        "      #print(scale_X)\n",
        "      '''"
      ],
      "execution_count": 14,
      "outputs": [
        {
          "output_type": "execute_result",
          "data": {
            "application/vnd.google.colaboratory.intrinsic+json": {
              "type": "string"
            },
            "text/plain": [
              "'\\n import sklearn\\n from sklearn.preprocessing import StandardScaler\\n scaler = StandardScaler()\\n\\n train_reshape_acc = np.array(train_acc).reshape(-1, 600, 3)\\n train_reshape_gy = np.array(train_gy).reshape(-1, 600, 3)\\n\\n for i in range(1000):\\n   train_ACC, train_GY = train_reshape_acc[i].reshape(-1, 3), train_reshape_gy[i].reshape(-1, 3)\\n   data_for_scaler = train_dataset(pd.DataFrame(train_ACC), pd.DataFrame(train_GY))\\n   print(data_for_scaler)\\n   scaler = StandardScaler().fit(data_for_scaler) #스탠다드 스케일러 사용\\n\\n   scale_X = np.array(data_for_scaler).reshape(-1, 600, data_for_scaler.shape[1])\\n #print(scale_X)\\n '"
            ]
          },
          "metadata": {},
          "execution_count": 14
        }
      ]
    },
    {
      "cell_type": "code",
      "metadata": {
        "id": "urBehSuOA7A3"
      },
      "source": [
        "# from sklearn.preprocessing import StandardScaler, RobustScaler, MinMaxScaler\n",
        "# from sklearn.pipeline import make_pipeline\n",
        "# scaler = StandardScaler()\n",
        "\n",
        "# Xtrain_scaled = pd.DataFrame(data=scaler.fit_transform(Xtrain[total_feature_names]), index=Xtrain.index, columns=total_feature_names)\n",
        "# Xtest_scaled = pd.DataFrame(data=scaler.transform(Xtest[total_feature_names]), index=Xtest.index, columns=total_feature_names)\n",
        "\n",
        "# print(Xtrain_scaled.shape, Xtest_scaled.shape)"
      ],
      "execution_count": 15,
      "outputs": []
    },
    {
      "cell_type": "markdown",
      "metadata": {
        "id": "tGw1EyiFBx1d"
      },
      "source": [
        "Reshape"
      ]
    },
    {
      "cell_type": "code",
      "metadata": {
        "id": "YdklYjm9B1Mj"
      },
      "source": [
        "# Xtrain_scaled = np.array(Xtrain_scaled[total_feature_names]).reshape(-1, 600, len(total_feature_names)).astype('float32')\n",
        "# Xtest_scaled= np.array(Xtest_scaled[total_feature_names]).reshape(-1, 600, len(total_feature_names)).astype('float32')\n",
        "\n",
        "# Ytrain = Ytrain['label']\n",
        "\n",
        "# print(Xtrain_scaled.shape, Ytrain.shape, Xtest_scaled.shape, submission.shape)"
      ],
      "execution_count": 16,
      "outputs": []
    },
    {
      "cell_type": "markdown",
      "metadata": {
        "id": "ro3qMzNYybmb"
      },
      "source": [
        "#Modeling"
      ]
    },
    {
      "cell_type": "code",
      "metadata": {
        "id": "I2jie8S3vSuz"
      },
      "source": [
        "import tensorflow as tf\n",
        "from tensorflow import keras\n",
        "from tensorflow.keras import layers as L\n",
        "from tensorflow.compat.v1 import ConfigProto\n",
        "from tensorflow.compat.v1 import InteractiveSession"
      ],
      "execution_count": 17,
      "outputs": []
    },
    {
      "cell_type": "code",
      "metadata": {
        "id": "ZK3rm_apN8VD",
        "colab": {
          "base_uri": "https://localhost:8080/",
          "height": 72
        },
        "outputId": "d87d7e76-61bd-439e-98e6-05f40d506a47"
      },
      "source": [
        "'''\n",
        "#1D - CNN\n",
        "\n",
        "import tensorflow as tf\n",
        "import tensorflow.keras as keras\n",
        "!pip install tensorflow-addons\n",
        "import tensorflow_addons as tfa\n",
        "from keras.models import Sequential\n",
        "from keras.layers import Dense, LSTM,Bidirectional,Dropout\n",
        "from keras.layers import Dense\n",
        "from keras.layers import Dropout\n",
        "from keras.layers import LSTM\n",
        "from keras.layers.convolutional import Conv1D\n",
        "from keras.layers.convolutional import MaxPooling1D\n",
        "from keras.utils import to_categorical\n",
        "from keras import backend as K \n",
        "from keras.callbacks import EarlyStopping, ModelCheckpoint,ReduceLROnPlateau\n",
        "from sklearn.model_selection import KFold,StratifiedKFold\n",
        "from numpy.random import seed\n",
        "import keras\n",
        "'''"
      ],
      "execution_count": 18,
      "outputs": [
        {
          "output_type": "execute_result",
          "data": {
            "application/vnd.google.colaboratory.intrinsic+json": {
              "type": "string"
            },
            "text/plain": [
              "'\\n#1D - CNN\\n\\nimport tensorflow as tf\\nimport tensorflow.keras as keras\\n!pip install tensorflow-addons\\nimport tensorflow_addons as tfa\\nfrom keras.models import Sequential\\nfrom keras.layers import Dense, LSTM,Bidirectional,Dropout\\nfrom keras.layers import Dense\\nfrom keras.layers import Dropout\\nfrom keras.layers import LSTM\\nfrom keras.layers.convolutional import Conv1D\\nfrom keras.layers.convolutional import MaxPooling1D\\nfrom keras.utils import to_categorical\\nfrom keras import backend as K \\nfrom keras.callbacks import EarlyStopping, ModelCheckpoint,ReduceLROnPlateau\\nfrom sklearn.model_selection import KFold,StratifiedKFold\\nfrom numpy.random import seed\\nimport keras\\n'"
            ]
          },
          "metadata": {},
          "execution_count": 18
        }
      ]
    },
    {
      "cell_type": "markdown",
      "metadata": {
        "id": "HENVaI0mAutI"
      },
      "source": [
        "# Model definition\n"
      ]
    },
    {
      "cell_type": "code",
      "metadata": {
        "id": "2l5gsO5-N9Ef",
        "colab": {
          "base_uri": "https://localhost:8080/",
          "height": 109
        },
        "outputId": "1195bb30-d0f7-4569-f405-023d2aaadb10"
      },
      "source": [
        "'''\n",
        "def cnn_model(input_shape, classes):\n",
        "    seed(2021)\n",
        "    tf.random.set_seed(2021)\n",
        "    \n",
        "    input_layer = keras.layers.Input(input_shape)\n",
        "    conv1 = keras.layers.Conv1D(filters=128, kernel_size=9, padding='same')(input_layer)\n",
        "    conv1 = keras.layers.BatchNormalization()(conv1)\n",
        "    conv1 = keras.layers.Activation(activation='relu')(conv1)\n",
        "    conv1 = keras.layers.Dropout(rate=0.3)(conv1)\n",
        "\n",
        "    conv2 = keras.layers.Conv1D(filters=256, kernel_size=6, padding='same')(conv1)\n",
        "    conv2 = keras.layers.BatchNormalization()(conv2)\n",
        "    conv2 = keras.layers.Activation('relu')(conv2)\n",
        "    conv2 = keras.layers.Dropout(rate=0.4)(conv2)\n",
        "    \n",
        "    conv3 = keras.layers.Conv1D(128, kernel_size=3,padding='same')(conv2)\n",
        "    conv3 = keras.layers.BatchNormalization()(conv3)\n",
        "    conv3 = keras.layers.Activation('relu')(conv3)\n",
        "    conv3 = keras.layers.Dropout(rate=0.5)(conv3)\n",
        "    \n",
        "    gap = keras.layers.GlobalAveragePooling1D()(conv3)\n",
        "    \n",
        "    output_layer = keras.layers.Dense(classes, activation='softmax')(gap)\n",
        "    \n",
        "    model = keras.models.Model(inputs=input_layer, outputs=output_layer)\n",
        "    \n",
        "    model.compile(loss='categorical_crossentropy', optimizer = keras.optimizers.Adam(), \n",
        "        metrics=['accuracy'])\n",
        "    \n",
        "    return model\n",
        "'''"
      ],
      "execution_count": 19,
      "outputs": [
        {
          "output_type": "execute_result",
          "data": {
            "application/vnd.google.colaboratory.intrinsic+json": {
              "type": "string"
            },
            "text/plain": [
              "\"\\ndef cnn_model(input_shape, classes):\\n    seed(2021)\\n    tf.random.set_seed(2021)\\n    \\n    input_layer = keras.layers.Input(input_shape)\\n    conv1 = keras.layers.Conv1D(filters=128, kernel_size=9, padding='same')(input_layer)\\n    conv1 = keras.layers.BatchNormalization()(conv1)\\n    conv1 = keras.layers.Activation(activation='relu')(conv1)\\n    conv1 = keras.layers.Dropout(rate=0.3)(conv1)\\n\\n    conv2 = keras.layers.Conv1D(filters=256, kernel_size=6, padding='same')(conv1)\\n    conv2 = keras.layers.BatchNormalization()(conv2)\\n    conv2 = keras.layers.Activation('relu')(conv2)\\n    conv2 = keras.layers.Dropout(rate=0.4)(conv2)\\n    \\n    conv3 = keras.layers.Conv1D(128, kernel_size=3,padding='same')(conv2)\\n    conv3 = keras.layers.BatchNormalization()(conv3)\\n    conv3 = keras.layers.Activation('relu')(conv3)\\n    conv3 = keras.layers.Dropout(rate=0.5)(conv3)\\n    \\n    gap = keras.layers.GlobalAveragePooling1D()(conv3)\\n    \\n    output_layer = keras.layers.Dense(classes, activation='softmax')(gap)\\n    \\n    model = keras.models.Model(inputs=input_layer, outputs=output_layer)\\n    \\n    model.compile(loss='categorical_crossentropy', optimizer = keras.optimizers.Adam(), \\n        metrics=['accuracy'])\\n    \\n    return model\\n\""
            ]
          },
          "metadata": {},
          "execution_count": 19
        }
      ]
    },
    {
      "cell_type": "code",
      "metadata": {
        "id": "32qVOP9WYL2p"
      },
      "source": [
        "def first_model(input) :\n",
        "\n",
        "    \n",
        "    inputs = L.Input(shape = (input.shape[1], input.shape[2]))\n",
        "    gru1 = L.GRU(256, return_sequences = True, dropout = 0.2)(inputs)\n",
        "    mp = L.MaxPool1D()(gru1)\n",
        "    ap = L.AveragePooling1D()(gru1)\n",
        "    concat1 = L.Concatenate()([mp, ap])\n",
        "    gru2 = L.GRU(256, return_sequences = True, dropout = 0.2)(concat1)\n",
        "    GAP = L.GlobalAveragePooling1D()(gru2)\n",
        "    dense = L.Dense(61, activation = \"softmax\")(GAP)\n",
        "    return keras.models.Model(inputs, dense)"
      ],
      "execution_count": 20,
      "outputs": []
    },
    {
      "cell_type": "code",
      "metadata": {
        "id": "r2DhI0vGL7OJ",
        "colab": {
          "base_uri": "https://localhost:8080/",
          "height": 35
        },
        "outputId": "c5f3fc8a-7d10-40ba-d968-3d30c5e2444c"
      },
      "source": [
        "\"\"\"\n",
        "train_split_id = [1,2,5,7]\n",
        "train_reshape_acc[train_split_id].shape\n",
        "\"\"\""
      ],
      "execution_count": 21,
      "outputs": [
        {
          "output_type": "execute_result",
          "data": {
            "application/vnd.google.colaboratory.intrinsic+json": {
              "type": "string"
            },
            "text/plain": [
              "'\\ntrain_split_id = [1,2,5,7]\\ntrain_reshape_acc[train_split_id].shape\\n'"
            ]
          },
          "metadata": {},
          "execution_count": 21
        }
      ]
    },
    {
      "cell_type": "code",
      "metadata": {
        "id": "vXm_QxfeRdn-"
      },
      "source": [
        "# i = list(range(10))\n",
        "# print(i)"
      ],
      "execution_count": 22,
      "outputs": []
    },
    {
      "cell_type": "code",
      "metadata": {
        "id": "Jv9FougNJXuH"
      },
      "source": [
        "# b = [1,2,3]\n",
        "# my_2darray = np.array([[1, 2, 3], [4, 5, 6],[6,74,7],[7,4,3],[7,86,3]])\n",
        "# a= pd.DataFrame(my_2darray)\n",
        "# print(c)\n",
        "# c=np.array(a)\n",
        "# print(c[b])\n",
        "# x = pd.DataFrame(np.array(a)[b])\n",
        "# print(x)"
      ],
      "execution_count": 23,
      "outputs": []
    },
    {
      "cell_type": "code",
      "metadata": {
        "id": "cr3zc9C8XLQh"
      },
      "source": [
        "    # train_reshape_acc = np.array(train_acc).reshape(-1, 600, 3)\n",
        "    # train_reshape_gy = np.array(train_gy).reshape(-1, 600, 3)\n",
        "    \n",
        "    # #print(train_reshape_acc, \"train reshape \\n\")\n",
        "    \n",
        "\n",
        "    # #i = list(range(0, 3125))\n",
        "    # i = [1,2,3]\n",
        "    # k=[1,2]\n",
        "    # train_ACC, train_GY = train_reshape_acc[i].reshape(-1, 3), train_reshape_gy[i].reshape(-1, 3)\n",
        "    # x =[]\n",
        "   \n",
        "    # print(train_ACC)\n",
        "    # for id in k :\n",
        "    #   a = 600*(id-1)\n",
        "    #   b = 600*id\n",
        "    #   x.append(train_ACC[a:b])\n",
        "    # y = np.array(x)\n",
        "    # x1 = y.reshape(y.shape[0]*y.shape[1],y.shape[2])  \n",
        "    # pd.DataFrame(x1)\n",
        "    # print(\"x1: \\n\",x1\n",
        "    #       )\n",
        "    # print(\"x1: \\n\",x1.shape)\n",
        "    "
      ],
      "execution_count": 24,
      "outputs": []
    },
    {
      "cell_type": "code",
      "metadata": {
        "id": "UzZQKzPze4Ql"
      },
      "source": [
        "\n",
        "def train_id_slice(train_split_id):\n",
        "    for id in train_split_id:        \n",
        "        a = 600*id\n",
        "        b = 600*(id+1)\n",
        "        yield a, b"
      ],
      "execution_count": 29,
      "outputs": []
    },
    {
      "cell_type": "markdown",
      "metadata": {
        "id": "Iwm-asWGBQdR"
      },
      "source": [
        "# Train Model "
      ]
    },
    {
      "cell_type": "code",
      "metadata": {
        "colab": {
          "base_uri": "https://localhost:8080/"
        },
        "id": "D5y8bvnXmHMg",
        "outputId": "2ef51bb6-4a4e-4c19-ef91-3c3a23eb1192"
      },
      "source": [
        "    from sklearn.model_selection import StratifiedKFold\n",
        "    from sklearn.metrics import accuracy_score\n",
        "    import random\n",
        "    import sklearn\n",
        "    from sklearn.preprocessing import StandardScaler\n",
        "     \n",
        "\n",
        "    # first_rlr : 첫번째로 learning_rate이 감소\n",
        "    # second_rlr : 두번째로 learning_rate이 감소\n",
        "    # r_seed : StratifiedKFold seed\n",
        "    #eed_ : numpy/random seed\n",
        "    \n",
        "    epochs = 40\n",
        "    first_rlr = 15\n",
        "    second_rlr = 30\n",
        "    r_seed = 2020\n",
        "    seed_ = 25\n",
        "\n",
        "    train_reshape_acc = np.array(train_acc).reshape(-1, 600, 3)\n",
        "    train_reshape_gy = np.array(train_gy).reshape(-1, 600, 3)\n",
        "\n",
        "    scaler = StandardScaler()\n",
        "\n",
        "    i = list(range(0, 3125))\n",
        "    #i = list(range(0, 100))\n",
        "    train_ACC, train_GY = train_reshape_acc[i].reshape(-1, 3), train_reshape_gy[i].reshape(-1, 3)\n",
        "    data_for_scaler = train_dataset(pd.DataFrame(train_ACC), pd.DataFrame(train_GY))\n",
        "    scale_X = scaler.fit_transform(data_for_scaler) #스탠다드 스케일러 사용\n",
        "\n",
        "    scale_X = np.array(scale_X).reshape(-1, 600, data_for_scaler.shape[1])\n",
        "    # train_scaler_ACC, train_scaler_GY = train_reshape_acc.reshape(-1, 3), train_reshape_gy.reshape(-1, 3)\n",
        "    # data_for_scaler = train_dataset(pd.DataFrame(train_scaler_ACC), pd.DataFrame(train_scaler_GY))\n",
        "    \n",
        "    # scaler = StandardScaler().fit(np.array(data_for_scaler)) #스탠다드 스케일러 사용\n",
        "    # data_for_scaler = np.array(data_for_scaler).reshape(-1, 600, data_for_scaler.shape[1])\n",
        "\n",
        "    result_model = []\n",
        "    cnt = 0\n",
        "    \n",
        "    random.seed(seed_)\n",
        "    tf.random.set_seed(21)\n",
        "\n",
        "    print(scale_X.shape[1],\"Scale\" ,scale_X.shape[2])\n",
        "    model = first_model(scale_X)\n",
        "    model.compile(optimizer=keras.optimizers.RMSprop(0.003),\n",
        "                  loss='categorical_crossentropy', metrics=['accuracy'])\n",
        "\n",
        "    spliter = StratifiedKFold(n_splits=10, shuffle = True, random_state = r_seed)\n",
        "\n",
        "    for train_split_id, valid_split_id in spliter.split(train_reshape_acc, train_y):\n",
        "        \n",
        "        train_Y, valid_Y = np.array(pd.get_dummies(train_y))[train_split_id], np.array(pd.get_dummies(train_y))[valid_split_id]\n",
        "        valid_ACC, valid_GY = train_reshape_acc[valid_split_id].reshape(-1, 3), train_reshape_gy[valid_split_id].reshape(-1, 3)\n",
        "        valid_x = test_dataset(pd.DataFrame(valid_ACC), pd.DataFrame(valid_GY))\n",
        "        print(\"valid_x\",\"\\n\",valid_x,\"\\n\")\n",
        "        valid_X = scaler.transform(np.array(valid_x)).reshape(-1, 600, valid_x.shape[1])\n",
        " \n",
        "       \n",
        "        val_score = 0\n",
        "        seed_ += 1\n",
        "\n",
        "        for i in range(epochs):\n",
        "            \n",
        "            np.random.seed(seed_*47 + i)\n",
        "\n",
        "            # print(\"train_split_id\",train_split_id,\"\\n\")\n",
        "            # print(\"valid_split_id\",valid_split_id,\"\\n\")\n",
        "            # train_ACC, train_GY = train_reshape_acc[train_split_id].reshape(-1, 3), train_reshape_gy[train_split_id].reshape(-1, 3)\n",
        "\n",
        "            # # print(\"train_ACC\",train_ACC,\"\\n\")\n",
        "            # # print(\"train_GY\",train_GY,\"\\n\")\n",
        "            # train_x = train_dataset(pd.DataFrame(train_ACC), pd.DataFrame(train_GY))\n",
        "            # print(\"train_x\",\"\\n\",train_x,\"\\n\")\n",
        " \n",
        "            # train_x = []\n",
        "            # # print(train_split_id)\n",
        "            # # print(data_for_scaler)\n",
        "            \n",
        "            # a, b = train_id_slice(train_split_id)    \n",
        "            # train_x.extend(np.array(data_for_scaler)[a:b])\n",
        "            \n",
        "            # train_x_arr = np.array(train_x)\n",
        "            # # pd.DataFrame(train_x_arr)\n",
        "            # # print(\"train_x_arr\",\"\\n\",train_x_arr,\"\\n\")\n",
        "            # # print(\"train_x_arr\",\"\\n\",train_x_arr.shape,\"\\n\")\n",
        "            # # train_x_arr1 = train_x_arr.reshape(-1,3) \n",
        "            # # print(\"train_x_arr1\",\"\\n\",train_x_arr1,\"\\n\")\n",
        "            # train_X = scaler.transform(train_x_arr).reshape(-1, 600, pd.DataFrame(train_x_arr).shape[1])\n",
        "        \n",
        "            # train_X_ = train_X.copy()\n",
        "\n",
        "            # train_X_ = rolling(train_X_)\n",
        "            # # print(\"train_X_\",train_X_,\"\\n\", \"train_X:\" ,train_X,\"\\n\")\n",
        "            hist = model.fit(scale_X[train_split_id], train_Y, epochs = 1, validation_data = (valid_X, valid_Y), verbose = 0)\n",
        "\n",
        "            train_accuracy = hist.history[\"accuracy\"]\n",
        "            new_val_score = accuracy_score(np.argmax(valid_Y, axis = 1), np.argmax(model.predict(valid_X), axis = 1))\n",
        "            val_loss = hist.history[\"val_loss\"]\n",
        "\n",
        "            if i == first_rlr:\n",
        "                model.compile(optimizer=keras.optimizers.RMSprop(0.003*0.2),\n",
        "                              loss='categorical_crossentropy', metrics=['accuracy'])\n",
        "\n",
        "            if i == second_rlr:\n",
        "                model.compile(optimizer = keras.optimizers.RMSprop(0.003*0.2*0.4),\n",
        "                             loss='categorical_crossentropy', metrics=['accuracy'])\n",
        "\n",
        "            print(\"epoch {} - train_accuracy : {} - validation_loss : {} - validation_accuracy : {}\".format(i,\n",
        "                                                                                                            train_accuracy,\n",
        "                                                                                                            val_loss,\n",
        "                                                                                                            new_val_score,\n",
        "                                                                                                            ))\n",
        "\n",
        "            if i == 0:\n",
        "                val_loss_score = val_loss[0]\n",
        "        \n",
        "            if val_loss_score >= val_loss[0]:\n",
        "                val_loss_score = val_loss[0]\n",
        "                best_model = model\n",
        "                print(\"####best_val####\")\n",
        "                    \n",
        "            if new_val_score >= val_score:\n",
        "                val_score = new_val_score\n",
        "                best_model = model\n",
        "                print(\"####best_acc####\")\n",
        "        print(\"####################################################### cycle {} is done\".format(cnt))\n",
        "        result_model.append(best_model)\n",
        "        cnt+=1\n",
        "\n",
        "\n",
        "    def predict_(model):\n",
        "        result = []\n",
        "        for mod in model:\n",
        "            result.append(mod.predict(test_X))\n",
        "        predict = np.array(result).mean(axis = 0)\n",
        "\n",
        "        return predict\n",
        "\n",
        "    def save_model(models, name = '1'):\n",
        "        cnt = 1\n",
        "        for model in models:\n",
        "            model.save(path + \"submission/last/weight/\" + name + '-{}.h5'.format(cnt))\n",
        "            cnt +=1\n",
        "\n"
      ],
      "execution_count": null,
      "outputs": [
        {
          "output_type": "stream",
          "name": "stderr",
          "text": [
            "/usr/local/lib/python3.7/dist-packages/ipykernel_launcher.py:24: RuntimeWarning: divide by zero encountered in double_scalars\n"
          ]
        },
        {
          "output_type": "stream",
          "name": "stdout",
          "text": [
            "600 Scale 8\n",
            "valid_x \n",
            "                0         1         2  ...          2          0          0\n",
            "0       0.940847 -0.404712 -0.129431  ...  53.903928  58.295962  24.349867\n",
            "1       0.842535 -0.420471  0.006315  ...  52.744367  47.007712  28.406174\n",
            "2       0.758375 -0.475855  0.090513  ...  52.564198  42.768356  29.796004\n",
            "3       0.722239 -0.566037  0.112719  ...  53.689793  39.143377  32.224074\n",
            "4       0.719623 -0.647658  0.115885  ...  60.365966  35.751284  35.383383\n",
            "...          ...       ...       ...  ...        ...        ...        ...\n",
            "187795 -0.975950 -0.147135 -0.078855  ...  -3.198557   6.156659  -6.690355\n",
            "187796 -0.988179 -0.169822 -0.080365  ...  -3.520089   3.451872  -6.037779\n",
            "187797 -0.989713 -0.200724 -0.093713  ...  -3.939838   2.139815  -5.881965\n",
            "187798 -0.983709 -0.209229 -0.108777  ...  -3.838674   2.942467  -5.930609\n",
            "187799 -0.987848 -0.196485 -0.109360  ...  -3.404842   4.648075  -5.582298\n",
            "\n",
            "[187800 rows x 8 columns] \n",
            "\n",
            "epoch 0 - train_accuracy : [0.5487197637557983] - validation_loss : [1.479367733001709] - validation_accuracy : 0.6134185303514377\n",
            "####best_val####\n",
            "####best_acc####\n",
            "epoch 1 - train_accuracy : [0.6607396602630615] - validation_loss : [1.1977152824401855] - validation_accuracy : 0.6485623003194888\n",
            "####best_val####\n",
            "####best_acc####\n",
            "epoch 2 - train_accuracy : [0.7254623174667358] - validation_loss : [1.1041536331176758] - validation_accuracy : 0.6805111821086262\n",
            "####best_val####\n",
            "####best_acc####\n",
            "epoch 3 - train_accuracy : [0.7652916312217712] - validation_loss : [1.0139987468719482] - validation_accuracy : 0.7380191693290735\n",
            "####best_val####\n",
            "####best_acc####\n",
            "epoch 4 - train_accuracy : [0.7916073799133301] - validation_loss : [0.9503933191299438] - validation_accuracy : 0.7412140575079872\n",
            "####best_val####\n",
            "####best_acc####\n",
            "epoch 5 - train_accuracy : [0.8243243098258972] - validation_loss : [0.9369803071022034] - validation_accuracy : 0.7348242811501597\n",
            "####best_val####\n",
            "epoch 6 - train_accuracy : [0.8527738451957703] - validation_loss : [0.9353386163711548] - validation_accuracy : 0.7539936102236422\n",
            "####best_val####\n",
            "####best_acc####\n",
            "epoch 7 - train_accuracy : [0.8773115277290344] - validation_loss : [0.9428263306617737] - validation_accuracy : 0.7476038338658147\n",
            "epoch 8 - train_accuracy : [0.8986486196517944] - validation_loss : [0.9358302354812622] - validation_accuracy : 0.7412140575079872\n",
            "epoch 9 - train_accuracy : [0.9132290482521057] - validation_loss : [0.9839168190956116] - validation_accuracy : 0.7635782747603834\n",
            "####best_acc####\n",
            "epoch 10 - train_accuracy : [0.9221194982528687] - validation_loss : [0.9573307633399963] - validation_accuracy : 0.7795527156549521\n",
            "####best_acc####\n",
            "epoch 11 - train_accuracy : [0.9377667307853699] - validation_loss : [1.058319330215454] - validation_accuracy : 0.7603833865814696\n",
            "epoch 12 - train_accuracy : [0.9434565901756287] - validation_loss : [1.1234886646270752] - validation_accuracy : 0.7667731629392971\n",
            "epoch 13 - train_accuracy : [0.9477240443229675] - validation_loss : [1.070114016532898] - validation_accuracy : 0.7667731629392971\n",
            "epoch 14 - train_accuracy : [0.9548364281654358] - validation_loss : [1.1297283172607422] - validation_accuracy : 0.7731629392971247\n",
            "epoch 15 - train_accuracy : [0.9615931510925293] - validation_loss : [1.013058066368103] - validation_accuracy : 0.7731629392971247\n",
            "epoch 16 - train_accuracy : [0.97901850938797] - validation_loss : [0.9566522836685181] - validation_accuracy : 0.792332268370607\n",
            "####best_acc####\n",
            "epoch 17 - train_accuracy : [0.9900426864624023] - validation_loss : [0.9545105695724487] - validation_accuracy : 0.7891373801916933\n",
            "epoch 18 - train_accuracy : [0.9925320148468018] - validation_loss : [0.9828299283981323] - validation_accuracy : 0.7827476038338658\n",
            "epoch 19 - train_accuracy : [0.9921764135360718] - validation_loss : [0.9952152967453003] - validation_accuracy : 0.7891373801916933\n",
            "epoch 20 - train_accuracy : [0.9946657419204712] - validation_loss : [1.0177139043807983] - validation_accuracy : 0.7827476038338658\n",
            "epoch 21 - train_accuracy : [0.9935988783836365] - validation_loss : [1.0278034210205078] - validation_accuracy : 0.7827476038338658\n",
            "epoch 22 - train_accuracy : [0.9953769445419312] - validation_loss : [1.046870470046997] - validation_accuracy : 0.7827476038338658\n",
            "epoch 23 - train_accuracy : [0.9964438080787659] - validation_loss : [1.0572830438613892] - validation_accuracy : 0.7859424920127795\n",
            "epoch 24 - train_accuracy : [0.9964438080787659] - validation_loss : [1.0658208131790161] - validation_accuracy : 0.7955271565495208\n",
            "####best_acc####\n",
            "epoch 25 - train_accuracy : [0.9960882067680359] - validation_loss : [1.1103092432022095] - validation_accuracy : 0.7795527156549521\n",
            "epoch 26 - train_accuracy : [0.9960882067680359] - validation_loss : [1.161311388015747] - validation_accuracy : 0.7795527156549521\n",
            "epoch 27 - train_accuracy : [0.9971550703048706] - validation_loss : [1.16219162940979] - validation_accuracy : 0.7827476038338658\n",
            "epoch 28 - train_accuracy : [0.9957325458526611] - validation_loss : [1.1539127826690674] - validation_accuracy : 0.7859424920127795\n",
            "epoch 29 - train_accuracy : [0.9960882067680359] - validation_loss : [1.2402644157409668] - validation_accuracy : 0.7859424920127795\n",
            "epoch 30 - train_accuracy : [0.9967994093894958] - validation_loss : [1.1931406259536743] - validation_accuracy : 0.7891373801916933\n",
            "epoch 31 - train_accuracy : [0.9982219338417053] - validation_loss : [1.2179169654846191] - validation_accuracy : 0.7827476038338658\n",
            "epoch 32 - train_accuracy : [0.9982219338417053] - validation_loss : [1.214152216911316] - validation_accuracy : 0.7859424920127795\n",
            "epoch 33 - train_accuracy : [0.9982219338417053] - validation_loss : [1.254514217376709] - validation_accuracy : 0.7827476038338658\n",
            "epoch 34 - train_accuracy : [0.9992887377738953] - validation_loss : [1.2465018033981323] - validation_accuracy : 0.7859424920127795\n",
            "epoch 35 - train_accuracy : [0.9989331364631653] - validation_loss : [1.2613816261291504] - validation_accuracy : 0.792332268370607\n",
            "epoch 36 - train_accuracy : [0.99964439868927] - validation_loss : [1.256821870803833] - validation_accuracy : 0.7859424920127795\n",
            "epoch 37 - train_accuracy : [0.9985775351524353] - validation_loss : [1.2993850708007812] - validation_accuracy : 0.7891373801916933\n",
            "epoch 38 - train_accuracy : [0.9989331364631653] - validation_loss : [1.3041203022003174] - validation_accuracy : 0.7891373801916933\n",
            "epoch 39 - train_accuracy : [0.99964439868927] - validation_loss : [1.2860924005508423] - validation_accuracy : 0.7859424920127795\n",
            "####################################################### cycle 0 is done\n",
            "valid_x \n",
            "                0         1         2  ...          2         0          0\n",
            "0      -0.203531 -0.780840  0.468624  ... -45.463714 -0.609602   1.728411\n",
            "1      -0.200052 -0.800411  0.487174  ... -46.074412  1.299251   2.130511\n",
            "2      -0.203390 -0.791327  0.499991  ... -45.604668  4.064714   3.533998\n",
            "3      -0.215232 -0.767829  0.486357  ... -45.070091  3.087222   4.877528\n",
            "4      -0.232004 -0.765712  0.478455  ... -43.452864 -1.141358   4.796860\n",
            "...          ...       ...       ...  ...        ...       ...        ...\n",
            "187795 -0.712530 -0.658357  0.293707  ... -76.290437 -1.215105 -54.220718\n",
            "187796 -0.683037 -0.658466  0.329223  ... -76.625087 -2.005213 -53.299999\n",
            "187797 -0.664730 -0.666625  0.364114  ... -79.365125 -0.442098 -51.549219\n",
            "187798 -0.630534 -0.682565  0.373696  ... -80.259478  2.113947 -50.863646\n",
            "187799 -0.578351 -0.700235  0.384390  ... -80.676229  5.379501 -50.128177\n",
            "\n",
            "[187800 rows x 8 columns] \n",
            "\n",
            "epoch 0 - train_accuracy : [0.9747510552406311] - validation_loss : [0.01679166778922081] - validation_accuracy : 0.9968051118210862\n",
            "####best_val####\n",
            "####best_acc####\n",
            "epoch 1 - train_accuracy : [0.9807965755462646] - validation_loss : [0.01597519963979721] - validation_accuracy : 0.9968051118210862\n",
            "####best_val####\n",
            "####best_acc####\n",
            "epoch 2 - train_accuracy : [0.9871976971626282] - validation_loss : [0.015803713351488113] - validation_accuracy : 0.9968051118210862\n",
            "####best_val####\n",
            "####best_acc####\n",
            "epoch 3 - train_accuracy : [0.991465151309967] - validation_loss : [0.017801018431782722] - validation_accuracy : 0.9968051118210862\n",
            "####best_acc####\n",
            "epoch 4 - train_accuracy : [0.9903982877731323] - validation_loss : [0.027685467153787613] - validation_accuracy : 0.9968051118210862\n",
            "####best_acc####\n",
            "epoch 5 - train_accuracy : [0.9935988783836365] - validation_loss : [0.0223566722124815] - validation_accuracy : 0.9936102236421726\n",
            "epoch 6 - train_accuracy : [0.9953769445419312] - validation_loss : [0.029729269444942474] - validation_accuracy : 0.9936102236421726\n",
            "epoch 7 - train_accuracy : [0.9964438080787659] - validation_loss : [0.03147299960255623] - validation_accuracy : 0.9936102236421726\n",
            "epoch 8 - train_accuracy : [0.9967994093894958] - validation_loss : [0.023341864347457886] - validation_accuracy : 0.9936102236421726\n",
            "epoch 9 - train_accuracy : [0.9960882067680359] - validation_loss : [0.02746088057756424] - validation_accuracy : 0.9936102236421726\n",
            "epoch 10 - train_accuracy : [0.9978662729263306] - validation_loss : [0.024189673364162445] - validation_accuracy : 0.9936102236421726\n",
            "epoch 11 - train_accuracy : [0.9978662729263306] - validation_loss : [0.02824261784553528] - validation_accuracy : 0.9936102236421726\n",
            "epoch 12 - train_accuracy : [0.9985775351524353] - validation_loss : [0.031417105346918106] - validation_accuracy : 0.9936102236421726\n",
            "epoch 13 - train_accuracy : [0.9985775351524353] - validation_loss : [0.03140207752585411] - validation_accuracy : 0.9936102236421726\n",
            "epoch 14 - train_accuracy : [0.9978662729263306] - validation_loss : [0.031948722898960114] - validation_accuracy : 0.9936102236421726\n",
            "epoch 15 - train_accuracy : [0.9989331364631653] - validation_loss : [0.025426175445318222] - validation_accuracy : 0.9936102236421726\n",
            "epoch 16 - train_accuracy : [0.9967994093894958] - validation_loss : [0.03123740665614605] - validation_accuracy : 0.9904153354632588\n",
            "epoch 17 - train_accuracy : [0.9975106716156006] - validation_loss : [0.03188084065914154] - validation_accuracy : 0.9936102236421726\n",
            "epoch 18 - train_accuracy : [0.9967994093894958] - validation_loss : [0.0259232297539711] - validation_accuracy : 0.9936102236421726\n",
            "epoch 19 - train_accuracy : [0.9975106716156006] - validation_loss : [0.023177189752459526] - validation_accuracy : 0.9904153354632588\n",
            "epoch 20 - train_accuracy : [0.9985775351524353] - validation_loss : [0.020710408687591553] - validation_accuracy : 0.9936102236421726\n",
            "epoch 21 - train_accuracy : [0.9971550703048706] - validation_loss : [0.018848642706871033] - validation_accuracy : 0.9936102236421726\n",
            "epoch 22 - train_accuracy : [0.9971550703048706] - validation_loss : [0.0309859998524189] - validation_accuracy : 0.9936102236421726\n",
            "epoch 23 - train_accuracy : [0.9982219338417053] - validation_loss : [0.024730326607823372] - validation_accuracy : 0.9936102236421726\n",
            "epoch 24 - train_accuracy : [0.9982219338417053] - validation_loss : [0.030140355229377747] - validation_accuracy : 0.9936102236421726\n",
            "epoch 25 - train_accuracy : [0.9985775351524353] - validation_loss : [0.03269101679325104] - validation_accuracy : 0.9936102236421726\n",
            "epoch 26 - train_accuracy : [0.9978662729263306] - validation_loss : [0.04184936732053757] - validation_accuracy : 0.9936102236421726\n",
            "epoch 27 - train_accuracy : [0.9985775351524353] - validation_loss : [0.043591950088739395] - validation_accuracy : 0.9936102236421726\n",
            "epoch 28 - train_accuracy : [0.9989331364631653] - validation_loss : [0.028879836201667786] - validation_accuracy : 0.9936102236421726\n",
            "epoch 29 - train_accuracy : [0.9978662729263306] - validation_loss : [0.03558020666241646] - validation_accuracy : 0.9936102236421726\n",
            "epoch 30 - train_accuracy : [0.9975106716156006] - validation_loss : [0.03198845311999321] - validation_accuracy : 0.9936102236421726\n",
            "epoch 31 - train_accuracy : [0.9989331364631653] - validation_loss : [0.03549466282129288] - validation_accuracy : 0.9936102236421726\n",
            "epoch 32 - train_accuracy : [0.9992887377738953] - validation_loss : [0.04072520509362221] - validation_accuracy : 0.9936102236421726\n",
            "epoch 33 - train_accuracy : [0.9992887377738953] - validation_loss : [0.04004334285855293] - validation_accuracy : 0.9936102236421726\n",
            "epoch 34 - train_accuracy : [0.9985775351524353] - validation_loss : [0.04251071438193321] - validation_accuracy : 0.9936102236421726\n",
            "epoch 35 - train_accuracy : [0.99964439868927] - validation_loss : [0.04042419418692589] - validation_accuracy : 0.9936102236421726\n",
            "epoch 36 - train_accuracy : [0.99964439868927] - validation_loss : [0.04255190119147301] - validation_accuracy : 0.9904153354632588\n",
            "epoch 37 - train_accuracy : [0.9989331364631653] - validation_loss : [0.042742811143398285] - validation_accuracy : 0.9936102236421726\n",
            "epoch 38 - train_accuracy : [0.99964439868927] - validation_loss : [0.045701853930950165] - validation_accuracy : 0.9904153354632588\n",
            "epoch 39 - train_accuracy : [0.99964439868927] - validation_loss : [0.048481374979019165] - validation_accuracy : 0.9936102236421726\n",
            "####################################################### cycle 1 is done\n"
          ]
        },
        {
          "output_type": "stream",
          "name": "stderr",
          "text": [
            "/usr/local/lib/python3.7/dist-packages/ipykernel_launcher.py:24: RuntimeWarning: divide by zero encountered in double_scalars\n"
          ]
        },
        {
          "output_type": "stream",
          "name": "stdout",
          "text": [
            "valid_x \n",
            "                0         1         2  ...           2          0          0\n",
            "0       0.103713 -0.831336  0.242183  ...   27.081531  11.018691  15.101705\n",
            "1      -0.006115 -0.803361  0.198072  ...   37.110641  18.100281  11.813927\n",
            "2      -0.004633 -0.751853  0.146588  ...   58.156605  23.404469  12.294870\n",
            "3       0.048017 -0.713709  0.105955  ...   79.224402  30.202374  18.837528\n",
            "4       0.038561 -0.726577  0.110275  ...  104.648080  37.579442  26.880532\n",
            "...          ...       ...       ...  ...         ...        ...        ...\n",
            "187795 -0.982847 -0.036080  0.244547  ...    8.973550 -12.841019  -9.970611\n",
            "187796 -0.979148 -0.028907  0.229761  ...    6.835549 -10.712253  -7.533650\n",
            "187797 -0.973091 -0.057996  0.205768  ...    6.902058 -10.100624  -6.227002\n",
            "187798 -0.961297 -0.090967  0.181724  ...    8.161703  -9.732890  -6.474061\n",
            "187799 -0.953130 -0.102276  0.165032  ...    8.317802  -8.902230  -7.090941\n",
            "\n",
            "[187800 rows x 8 columns] \n",
            "\n",
            "epoch 0 - train_accuracy : [0.9985775351524353] - validation_loss : [0.0008249296224676073] - validation_accuracy : 1.0\n",
            "####best_val####\n",
            "####best_acc####\n",
            "epoch 1 - train_accuracy : [0.9982219338417053] - validation_loss : [0.012922899797558784] - validation_accuracy : 0.9968051118210862\n",
            "epoch 2 - train_accuracy : [0.9989331364631653] - validation_loss : [0.012974358163774014] - validation_accuracy : 0.9968051118210862\n",
            "epoch 3 - train_accuracy : [0.9978662729263306] - validation_loss : [0.00013110449071973562] - validation_accuracy : 1.0\n",
            "####best_val####\n",
            "####best_acc####\n",
            "epoch 4 - train_accuracy : [0.9982219338417053] - validation_loss : [0.0005059789982624352] - validation_accuracy : 1.0\n",
            "####best_acc####\n",
            "epoch 5 - train_accuracy : [0.9985775351524353] - validation_loss : [0.00011670121602946892] - validation_accuracy : 1.0\n",
            "####best_val####\n",
            "####best_acc####\n",
            "epoch 6 - train_accuracy : [0.99964439868927] - validation_loss : [0.0006530592800118029] - validation_accuracy : 1.0\n",
            "####best_acc####\n",
            "epoch 7 - train_accuracy : [0.9992887377738953] - validation_loss : [0.002173532033339143] - validation_accuracy : 1.0\n",
            "####best_acc####\n",
            "epoch 8 - train_accuracy : [0.9992887377738953] - validation_loss : [0.0001336511631961912] - validation_accuracy : 1.0\n",
            "####best_acc####\n",
            "epoch 9 - train_accuracy : [0.9989331364631653] - validation_loss : [0.0007341048330999911] - validation_accuracy : 1.0\n",
            "####best_acc####\n",
            "epoch 10 - train_accuracy : [0.9989331364631653] - validation_loss : [0.001989812823012471] - validation_accuracy : 1.0\n",
            "####best_acc####\n",
            "epoch 11 - train_accuracy : [0.9985775351524353] - validation_loss : [0.0002704584621824324] - validation_accuracy : 1.0\n",
            "####best_acc####\n",
            "epoch 12 - train_accuracy : [0.99964439868927] - validation_loss : [0.0028371945954859257] - validation_accuracy : 0.9968051118210862\n",
            "epoch 13 - train_accuracy : [0.9989331364631653] - validation_loss : [0.00017676032439339906] - validation_accuracy : 1.0\n",
            "####best_acc####\n",
            "epoch 14 - train_accuracy : [0.99964439868927] - validation_loss : [0.004580714274197817] - validation_accuracy : 0.9968051118210862\n",
            "epoch 15 - train_accuracy : [0.9989331364631653] - validation_loss : [0.000726620783098042] - validation_accuracy : 1.0\n",
            "####best_acc####\n",
            "epoch 16 - train_accuracy : [0.9971550703048706] - validation_loss : [0.0037290211766958237] - validation_accuracy : 0.9968051118210862\n",
            "epoch 17 - train_accuracy : [0.9975106716156006] - validation_loss : [0.0034488074015825987] - validation_accuracy : 0.9968051118210862\n",
            "epoch 18 - train_accuracy : [0.9971550703048706] - validation_loss : [0.0003026188351213932] - validation_accuracy : 1.0\n",
            "####best_acc####\n",
            "epoch 19 - train_accuracy : [0.9982219338417053] - validation_loss : [0.016576921567320824] - validation_accuracy : 0.9968051118210862\n",
            "epoch 20 - train_accuracy : [0.9982219338417053] - validation_loss : [0.005114528816193342] - validation_accuracy : 0.9968051118210862\n",
            "epoch 21 - train_accuracy : [0.9982219338417053] - validation_loss : [0.0006382163264788687] - validation_accuracy : 1.0\n",
            "####best_acc####\n",
            "epoch 22 - train_accuracy : [0.9982219338417053] - validation_loss : [0.009320741519331932] - validation_accuracy : 0.9968051118210862\n",
            "epoch 23 - train_accuracy : [0.9985775351524353] - validation_loss : [0.0006503519252873957] - validation_accuracy : 1.0\n",
            "####best_acc####\n",
            "epoch 24 - train_accuracy : [0.9978662729263306] - validation_loss : [0.012653468176722527] - validation_accuracy : 0.9936102236421726\n",
            "epoch 25 - train_accuracy : [0.9982219338417053] - validation_loss : [0.013418176211416721] - validation_accuracy : 0.9936102236421726\n",
            "epoch 26 - train_accuracy : [0.9985775351524353] - validation_loss : [0.016172658652067184] - validation_accuracy : 0.9936102236421726\n",
            "epoch 27 - train_accuracy : [0.9985775351524353] - validation_loss : [0.008651865646243095] - validation_accuracy : 0.9936102236421726\n",
            "epoch 28 - train_accuracy : [0.9985775351524353] - validation_loss : [0.022504661232233047] - validation_accuracy : 0.9936102236421726\n",
            "epoch 29 - train_accuracy : [0.9989331364631653] - validation_loss : [0.015746939927339554] - validation_accuracy : 0.9936102236421726\n",
            "epoch 30 - train_accuracy : [0.9982219338417053] - validation_loss : [0.0010046529350802302] - validation_accuracy : 1.0\n",
            "####best_acc####\n",
            "epoch 31 - train_accuracy : [0.9985775351524353] - validation_loss : [0.0012831251369789243] - validation_accuracy : 1.0\n",
            "####best_acc####\n",
            "epoch 32 - train_accuracy : [0.9989331364631653] - validation_loss : [0.0004618748789653182] - validation_accuracy : 1.0\n",
            "####best_acc####\n",
            "epoch 33 - train_accuracy : [0.99964439868927] - validation_loss : [0.011610183864831924] - validation_accuracy : 0.9968051118210862\n",
            "epoch 34 - train_accuracy : [0.9989331364631653] - validation_loss : [0.006657844875007868] - validation_accuracy : 0.9968051118210862\n",
            "epoch 35 - train_accuracy : [0.9992887377738953] - validation_loss : [0.0030289411079138517] - validation_accuracy : 0.9968051118210862\n",
            "epoch 36 - train_accuracy : [0.99964439868927] - validation_loss : [0.0014856929192319512] - validation_accuracy : 1.0\n",
            "####best_acc####\n",
            "epoch 37 - train_accuracy : [0.99964439868927] - validation_loss : [0.0015867791371420026] - validation_accuracy : 1.0\n",
            "####best_acc####\n",
            "epoch 38 - train_accuracy : [0.99964439868927] - validation_loss : [0.0017114056972786784] - validation_accuracy : 1.0\n",
            "####best_acc####\n",
            "epoch 39 - train_accuracy : [0.99964439868927] - validation_loss : [0.011397643946111202] - validation_accuracy : 0.9968051118210862\n",
            "####################################################### cycle 2 is done\n"
          ]
        },
        {
          "output_type": "stream",
          "name": "stderr",
          "text": [
            "/usr/local/lib/python3.7/dist-packages/ipykernel_launcher.py:24: RuntimeWarning: divide by zero encountered in double_scalars\n"
          ]
        },
        {
          "output_type": "stream",
          "name": "stdout",
          "text": [
            "valid_x \n",
            "                0         1         2  ...          2         0          0\n",
            "0       1.206087 -0.179371 -0.148447  ... -31.676112  4.954343  -8.968193\n",
            "1       1.287696 -0.198974 -0.182444  ... -24.927216  5.662210 -13.496638\n",
            "2       1.304609 -0.195114 -0.253382  ... -25.019629  3.232217 -16.265519\n",
            "3       1.293095 -0.230366 -0.215210  ... -27.454013  8.472350 -20.327952\n",
            "4       1.300887 -0.187757 -0.222523  ... -27.961234  9.141139 -22.075510\n",
            "...          ...       ...       ...  ...        ...       ...        ...\n",
            "187795 -1.171219 -0.125761  0.154128  ... -42.961252  9.672700 -45.677867\n",
            "187796 -1.219253 -0.153282  0.213533  ... -41.132746  0.685785 -47.268600\n",
            "187797 -1.253811 -0.195029  0.230406  ... -39.034608 -8.550670 -48.122932\n",
            "187798 -1.241539 -0.221909  0.205416  ... -36.002309 -8.054352 -50.394400\n",
            "187799 -1.156735 -0.230939  0.167636  ... -32.455394 -4.199791 -54.794187\n",
            "\n",
            "[187800 rows x 8 columns] \n",
            "\n",
            "epoch 0 - train_accuracy : [0.9992887377738953] - validation_loss : [2.2831853129900992e-05] - validation_accuracy : 1.0\n",
            "####best_val####\n",
            "####best_acc####\n",
            "epoch 1 - train_accuracy : [0.99964439868927] - validation_loss : [1.3187008335080463e-05] - validation_accuracy : 1.0\n",
            "####best_val####\n",
            "####best_acc####\n",
            "epoch 2 - train_accuracy : [0.9989331364631653] - validation_loss : [1.2105193491152022e-05] - validation_accuracy : 1.0\n",
            "####best_val####\n",
            "####best_acc####\n",
            "epoch 3 - train_accuracy : [0.9989331364631653] - validation_loss : [1.5362251360784285e-05] - validation_accuracy : 1.0\n",
            "####best_acc####\n",
            "epoch 4 - train_accuracy : [0.9992887377738953] - validation_loss : [1.1681803698593285e-05] - validation_accuracy : 1.0\n",
            "####best_val####\n",
            "####best_acc####\n",
            "epoch 5 - train_accuracy : [0.9992887377738953] - validation_loss : [1.2871463695773855e-05] - validation_accuracy : 1.0\n",
            "####best_acc####\n",
            "epoch 6 - train_accuracy : [0.9989331364631653] - validation_loss : [1.1249794624745846e-05] - validation_accuracy : 1.0\n",
            "####best_val####\n",
            "####best_acc####\n",
            "epoch 7 - train_accuracy : [0.9992887377738953] - validation_loss : [1.1575550161069259e-05] - validation_accuracy : 1.0\n",
            "####best_acc####\n",
            "epoch 8 - train_accuracy : [0.99964439868927] - validation_loss : [1.3333883543964475e-05] - validation_accuracy : 1.0\n",
            "####best_acc####\n",
            "epoch 9 - train_accuracy : [0.99964439868927] - validation_loss : [9.878777746052947e-06] - validation_accuracy : 1.0\n",
            "####best_val####\n",
            "####best_acc####\n",
            "epoch 10 - train_accuracy : [0.9992887377738953] - validation_loss : [1.1004864063579589e-05] - validation_accuracy : 1.0\n",
            "####best_acc####\n",
            "epoch 11 - train_accuracy : [0.9992887377738953] - validation_loss : [8.98308826435823e-06] - validation_accuracy : 1.0\n",
            "####best_val####\n",
            "####best_acc####\n",
            "epoch 12 - train_accuracy : [1.0] - validation_loss : [1.591046566318255e-05] - validation_accuracy : 1.0\n",
            "####best_acc####\n",
            "epoch 13 - train_accuracy : [0.9992887377738953] - validation_loss : [9.434638741367962e-06] - validation_accuracy : 1.0\n",
            "####best_acc####\n",
            "epoch 14 - train_accuracy : [0.9992887377738953] - validation_loss : [9.480429071118124e-06] - validation_accuracy : 1.0\n",
            "####best_acc####\n",
            "epoch 15 - train_accuracy : [0.9992887377738953] - validation_loss : [9.955879249901045e-06] - validation_accuracy : 1.0\n",
            "####best_acc####\n",
            "epoch 16 - train_accuracy : [0.9982219338417053] - validation_loss : [5.032294211559929e-05] - validation_accuracy : 1.0\n",
            "####best_acc####\n",
            "epoch 17 - train_accuracy : [0.9982219338417053] - validation_loss : [5.645198325510137e-05] - validation_accuracy : 1.0\n",
            "####best_acc####\n",
            "epoch 18 - train_accuracy : [0.9975106716156006] - validation_loss : [0.0005391970626078546] - validation_accuracy : 1.0\n",
            "####best_acc####\n",
            "epoch 19 - train_accuracy : [0.9985775351524353] - validation_loss : [0.000680103141348809] - validation_accuracy : 1.0\n",
            "####best_acc####\n",
            "epoch 20 - train_accuracy : [0.9985775351524353] - validation_loss : [0.0004924725508317351] - validation_accuracy : 1.0\n",
            "####best_acc####\n",
            "epoch 21 - train_accuracy : [0.9982219338417053] - validation_loss : [0.00019390862144064158] - validation_accuracy : 1.0\n",
            "####best_acc####\n",
            "epoch 22 - train_accuracy : [0.9985775351524353] - validation_loss : [4.200595503789373e-05] - validation_accuracy : 1.0\n",
            "####best_acc####\n",
            "epoch 23 - train_accuracy : [0.9985775351524353] - validation_loss : [0.0001219899277202785] - validation_accuracy : 1.0\n",
            "####best_acc####\n",
            "epoch 24 - train_accuracy : [0.9992887377738953] - validation_loss : [0.0012291029561311007] - validation_accuracy : 1.0\n",
            "####best_acc####\n",
            "epoch 25 - train_accuracy : [0.9992887377738953] - validation_loss : [0.0006194476736709476] - validation_accuracy : 1.0\n",
            "####best_acc####\n",
            "epoch 26 - train_accuracy : [0.9989331364631653] - validation_loss : [0.00021605227084364742] - validation_accuracy : 1.0\n",
            "####best_acc####\n",
            "epoch 27 - train_accuracy : [0.9992887377738953] - validation_loss : [0.00013672365457750857] - validation_accuracy : 1.0\n",
            "####best_acc####\n",
            "epoch 28 - train_accuracy : [0.9985775351524353] - validation_loss : [0.0003127173986285925] - validation_accuracy : 1.0\n",
            "####best_acc####\n",
            "epoch 29 - train_accuracy : [0.9992887377738953] - validation_loss : [0.0007812379626557231] - validation_accuracy : 1.0\n",
            "####best_acc####\n",
            "epoch 30 - train_accuracy : [0.99964439868927] - validation_loss : [3.3008363971021026e-05] - validation_accuracy : 1.0\n",
            "####best_acc####\n",
            "epoch 31 - train_accuracy : [0.99964439868927] - validation_loss : [0.0002285692753503099] - validation_accuracy : 1.0\n",
            "####best_acc####\n",
            "epoch 32 - train_accuracy : [0.99964439868927] - validation_loss : [0.00021376562654040754] - validation_accuracy : 1.0\n",
            "####best_acc####\n",
            "epoch 33 - train_accuracy : [0.99964439868927] - validation_loss : [0.00029947160510346293] - validation_accuracy : 1.0\n",
            "####best_acc####\n",
            "epoch 34 - train_accuracy : [0.99964439868927] - validation_loss : [0.0002702469937503338] - validation_accuracy : 1.0\n",
            "####best_acc####\n",
            "epoch 35 - train_accuracy : [0.9992887377738953] - validation_loss : [0.00013244859292171896] - validation_accuracy : 1.0\n",
            "####best_acc####\n",
            "epoch 36 - train_accuracy : [0.9992887377738953] - validation_loss : [0.0004105776024516672] - validation_accuracy : 1.0\n",
            "####best_acc####\n",
            "epoch 37 - train_accuracy : [0.99964439868927] - validation_loss : [0.0003552633570507169] - validation_accuracy : 1.0\n",
            "####best_acc####\n",
            "epoch 38 - train_accuracy : [0.99964439868927] - validation_loss : [8.46485054353252e-05] - validation_accuracy : 1.0\n",
            "####best_acc####\n",
            "epoch 39 - train_accuracy : [0.9989331364631653] - validation_loss : [5.2915878768544644e-05] - validation_accuracy : 1.0\n",
            "####best_acc####\n",
            "####################################################### cycle 3 is done\n"
          ]
        },
        {
          "output_type": "stream",
          "name": "stderr",
          "text": [
            "/usr/local/lib/python3.7/dist-packages/ipykernel_launcher.py:24: RuntimeWarning: divide by zero encountered in double_scalars\n"
          ]
        },
        {
          "output_type": "stream",
          "name": "stdout",
          "text": [
            "valid_x \n",
            "                0         1         2  ...           2          0          0\n",
            "0      -0.211795 -0.078760  0.854627  ...    7.390348   9.126552   3.718781\n",
            "1      -0.256963 -0.018555  0.802172  ...    7.947258  13.566509  -1.594227\n",
            "2      -0.257005 -0.001413  0.806032  ...    1.982548   9.102071  -3.732057\n",
            "3      -0.189642 -0.041282  0.827937  ...   -0.292844   4.545597  -6.764341\n",
            "4      -0.162570 -0.091074  0.861091  ...   -3.220456   3.828364  -5.120315\n",
            "...          ...       ...       ...  ...         ...        ...        ...\n",
            "187795 -2.278152 -0.142968  0.264065  ... -221.374720 -65.597046  41.501018\n",
            "187796 -2.281327 -0.343883  0.208725  ... -204.559867 -70.383953  43.901623\n",
            "187797 -2.172049 -0.483841  0.130819  ... -189.238586 -69.811229  54.245132\n",
            "187798 -1.990980 -0.539973  0.071770  ... -179.674054 -61.893934  65.169792\n",
            "187799 -1.804205 -0.563503  0.097359  ... -175.861945 -53.508297  69.903702\n",
            "\n",
            "[187800 rows x 8 columns] \n",
            "\n",
            "epoch 0 - train_accuracy : [0.99964439868927] - validation_loss : [2.7215764930588193e-06] - validation_accuracy : 1.0\n",
            "####best_val####\n",
            "####best_acc####\n",
            "epoch 1 - train_accuracy : [0.9992887377738953] - validation_loss : [3.069641707043047e-06] - validation_accuracy : 1.0\n",
            "####best_acc####\n",
            "epoch 2 - train_accuracy : [0.99964439868927] - validation_loss : [2.887239816118381e-06] - validation_accuracy : 1.0\n",
            "####best_acc####\n",
            "epoch 3 - train_accuracy : [0.99964439868927] - validation_loss : [2.934456006187247e-06] - validation_accuracy : 1.0\n",
            "####best_acc####\n"
          ]
        }
      ]
    },
    {
      "cell_type": "code",
      "metadata": {
        "id": "ojDaNp_lFtel"
      },
      "source": [
        "# model = first_model(scale_X)\n",
        "# print(model.history)"
      ],
      "execution_count": null,
      "outputs": []
    },
    {
      "cell_type": "markdown",
      "metadata": {
        "id": "UqrkxAkeBaqN"
      },
      "source": [
        "#시작"
      ]
    },
    {
      "cell_type": "markdown",
      "metadata": {
        "id": "z1cyvly8-4Y2"
      },
      "source": [
        "제출"
      ]
    },
    {
      "cell_type": "code",
      "metadata": {
        "id": "YfYVxYi5R0DK"
      },
      "source": [
        "submission.to_csv('kalman_submission.csv', index=False)"
      ],
      "execution_count": null,
      "outputs": []
    }
  ]
}